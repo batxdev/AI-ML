{
  "nbformat": 4,
  "nbformat_minor": 0,
  "metadata": {
    "colab": {
      "provenance": []
    },
    "kernelspec": {
      "name": "python3",
      "display_name": "Python 3"
    },
    "language_info": {
      "name": "python"
    }
  },
  "cells": [
    {
      "cell_type": "markdown",
      "source": [
        "Implement the missing value, and outlier handling data preprocessing techniques on the dataset imported in lab 4 or any other dataset."
      ],
      "metadata": {
        "id": "Y851Z5iVsPCK"
      }
    },
    {
      "cell_type": "code",
      "source": [
        "# Let's load and inspect the dataset to understand its structure and identify missing values and outliers.\n",
        "import pandas as pd\n",
        "\n",
        "# Load the dataset\n",
        "data = pd.read_csv('student-dataset.csv')\n",
        "\n",
        "\n",
        "# Display basic information and the first few rows of the dataset\n",
        "data_info = data.info()\n",
        "data_head = data.head()\n",
        "\n",
        "data_info, data_head\n"
      ],
      "metadata": {
        "colab": {
          "base_uri": "https://localhost:8080/"
        },
        "id": "I09UFACAvgjX",
        "outputId": "a8fc511e-2d86-4027-b050-27d37bc7e7df"
      },
      "execution_count": 9,
      "outputs": [
        {
          "output_type": "stream",
          "name": "stdout",
          "text": [
            "<class 'pandas.core.frame.DataFrame'>\n",
            "RangeIndex: 307 entries, 0 to 306\n",
            "Data columns (total 16 columns):\n",
            " #   Column              Non-Null Count  Dtype  \n",
            "---  ------              --------------  -----  \n",
            " 0   id                  307 non-null    int64  \n",
            " 1   name                307 non-null    object \n",
            " 2   nationality         307 non-null    object \n",
            " 3   city                307 non-null    object \n",
            " 4   latitude            307 non-null    float64\n",
            " 5   longitude           307 non-null    float64\n",
            " 6   gender              307 non-null    object \n",
            " 7   ethnic.group        0 non-null      float64\n",
            " 8   age                 307 non-null    int64  \n",
            " 9   english.grade       307 non-null    float64\n",
            " 10  math.grade          307 non-null    float64\n",
            " 11  sciences.grade      307 non-null    float64\n",
            " 12  language.grade      307 non-null    float64\n",
            " 13  portfolio.rating    307 non-null    int64  \n",
            " 14  coverletter.rating  307 non-null    float64\n",
            " 15  refletter.rating    307 non-null    int64  \n",
            "dtypes: float64(8), int64(4), object(4)\n",
            "memory usage: 38.5+ KB\n"
          ]
        },
        {
          "output_type": "execute_result",
          "data": {
            "text/plain": [
              "(None,\n",
              "    id             name               nationality                 city  \\\n",
              " 0   0        Kiana Lor                     China               Suzhou   \n",
              " 1   1   Joshua Lonaker  United States of America        Santa Clarita   \n",
              " 2   2    Dakota Blanco  United States of America              Oakland   \n",
              " 3   3  Natasha Yarusso  United States of America        Castro Valley   \n",
              " 4   4   Brooke Cazares                    Brazil  São José dos Campos   \n",
              " \n",
              "    latitude  longitude gender  ethnic.group  age  english.grade  math.grade  \\\n",
              " 0     31.31     120.62      F           NaN   22            3.5         3.7   \n",
              " 1     34.39    -118.54      M           NaN   22            2.9         3.2   \n",
              " 2     37.80    -122.27      F           NaN   22            3.9         3.8   \n",
              " 3     37.69    -122.09      F           NaN   20            3.3         2.8   \n",
              " 4    -23.18     -45.88      F           NaN   21            3.7         2.6   \n",
              " \n",
              "    sciences.grade  language.grade  portfolio.rating  coverletter.rating  \\\n",
              " 0             3.1             1.0                 4                 4.0   \n",
              " 1             3.6             5.0                 5                 4.0   \n",
              " 2             3.2             5.0                 3                 3.0   \n",
              " 3             3.2             5.0                 5                 2.0   \n",
              " 4             3.4             1.0                 4                 4.0   \n",
              " \n",
              "    refletter.rating  \n",
              " 0                 4  \n",
              " 1                 5  \n",
              " 2                 4  \n",
              " 3                 4  \n",
              " 4                 5  )"
            ]
          },
          "metadata": {},
          "execution_count": 9
        }
      ]
    },
    {
      "cell_type": "code",
      "source": [
        "# Handling missing values: Dropping the \"ethnic.group\" column as it contains 100% missing data\n",
        "data_cleaned = data.drop(columns=['ethnic.group'])\n",
        "\n",
        "# Now let's check for outliers using the IQR method for numeric columns\n",
        "numeric_columns = ['english.grade', 'math.grade', 'sciences.grade', 'language.grade',\n",
        "                   'portfolio.rating', 'coverletter.rating', 'refletter.rating']\n",
        "\n",
        "# Calculate Q1 (25th percentile) and Q3 (75th percentile) for each numeric column\n",
        "Q1 = data_cleaned[numeric_columns].quantile(0.25)\n",
        "Q3 = data_cleaned[numeric_columns].quantile(0.75)\n",
        "IQR = Q3 - Q1\n",
        "\n",
        "# Define outliers as values below (Q1 - 1.5 * IQR) or above (Q3 + 1.5 * IQR)\n",
        "lower_bound = Q1 - 1.5 * IQR\n",
        "upper_bound = Q3 + 1.5 * IQR\n",
        "\n",
        "# Detect outliers\n",
        "outliers = ((data_cleaned[numeric_columns] < lower_bound) |\n",
        "            (data_cleaned[numeric_columns] > upper_bound))\n",
        "\n",
        "# Count of outliers in each column\n",
        "outlier_count = outliers.sum()\n",
        "\n",
        "outlier_count\n"
      ],
      "metadata": {
        "colab": {
          "base_uri": "https://localhost:8080/",
          "height": 300
        },
        "id": "mpwNfia1vvZa",
        "outputId": "2e187df5-491d-4d3a-e841-b910effb4097"
      },
      "execution_count": 10,
      "outputs": [
        {
          "output_type": "execute_result",
          "data": {
            "text/plain": [
              "english.grade          8\n",
              "math.grade             0\n",
              "sciences.grade        14\n",
              "language.grade        23\n",
              "portfolio.rating       3\n",
              "coverletter.rating    10\n",
              "refletter.rating      14\n",
              "dtype: int64"
            ],
            "text/html": [
              "<div>\n",
              "<style scoped>\n",
              "    .dataframe tbody tr th:only-of-type {\n",
              "        vertical-align: middle;\n",
              "    }\n",
              "\n",
              "    .dataframe tbody tr th {\n",
              "        vertical-align: top;\n",
              "    }\n",
              "\n",
              "    .dataframe thead th {\n",
              "        text-align: right;\n",
              "    }\n",
              "</style>\n",
              "<table border=\"1\" class=\"dataframe\">\n",
              "  <thead>\n",
              "    <tr style=\"text-align: right;\">\n",
              "      <th></th>\n",
              "      <th>0</th>\n",
              "    </tr>\n",
              "  </thead>\n",
              "  <tbody>\n",
              "    <tr>\n",
              "      <th>english.grade</th>\n",
              "      <td>8</td>\n",
              "    </tr>\n",
              "    <tr>\n",
              "      <th>math.grade</th>\n",
              "      <td>0</td>\n",
              "    </tr>\n",
              "    <tr>\n",
              "      <th>sciences.grade</th>\n",
              "      <td>14</td>\n",
              "    </tr>\n",
              "    <tr>\n",
              "      <th>language.grade</th>\n",
              "      <td>23</td>\n",
              "    </tr>\n",
              "    <tr>\n",
              "      <th>portfolio.rating</th>\n",
              "      <td>3</td>\n",
              "    </tr>\n",
              "    <tr>\n",
              "      <th>coverletter.rating</th>\n",
              "      <td>10</td>\n",
              "    </tr>\n",
              "    <tr>\n",
              "      <th>refletter.rating</th>\n",
              "      <td>14</td>\n",
              "    </tr>\n",
              "  </tbody>\n",
              "</table>\n",
              "</div><br><label><b>dtype:</b> int64</label>"
            ]
          },
          "metadata": {},
          "execution_count": 10
        }
      ]
    }
  ]
}