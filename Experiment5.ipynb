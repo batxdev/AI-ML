{
  "nbformat": 4,
  "nbformat_minor": 0,
  "metadata": {
    "colab": {
      "provenance": []
    },
    "kernelspec": {
      "name": "python3",
      "display_name": "Python 3"
    },
    "language_info": {
      "name": "python"
    }
  },
  "cells": [
    {
      "cell_type": "code",
      "execution_count": 1,
      "metadata": {
        "id": "pn1vXRYibaqy"
      },
      "outputs": [],
      "source": [
        "import pandas as pd\n",
        "import matplotlib.pyplot as plt\n"
      ]
    },
    {
      "cell_type": "code",
      "source": [
        "df = pd.read_csv('student-dataset.csv')\n"
      ],
      "metadata": {
        "id": "H7oe4hqZzW9A"
      },
      "execution_count": 3,
      "outputs": []
    },
    {
      "cell_type": "code",
      "source": [
        "# 1. Display basic information about the dataset\n",
        "print(\"Dataset Info:\")\n",
        "print(df.info())\n",
        "\n",
        "print(\"\\nDataset Description:\")\n",
        "print(df.describe())\n"
      ],
      "metadata": {
        "colab": {
          "base_uri": "https://localhost:8080/"
        },
        "id": "4oSsbC6dzqYz",
        "outputId": "c0935b10-e479-471a-a512-2acc28c62e44"
      },
      "execution_count": 4,
      "outputs": [
        {
          "output_type": "stream",
          "name": "stdout",
          "text": [
            "Dataset Info:\n",
            "<class 'pandas.core.frame.DataFrame'>\n",
            "RangeIndex: 307 entries, 0 to 306\n",
            "Data columns (total 16 columns):\n",
            " #   Column              Non-Null Count  Dtype  \n",
            "---  ------              --------------  -----  \n",
            " 0   id                  307 non-null    int64  \n",
            " 1   name                307 non-null    object \n",
            " 2   nationality         307 non-null    object \n",
            " 3   city                307 non-null    object \n",
            " 4   latitude            307 non-null    float64\n",
            " 5   longitude           307 non-null    float64\n",
            " 6   gender              307 non-null    object \n",
            " 7   ethnic.group        0 non-null      float64\n",
            " 8   age                 307 non-null    int64  \n",
            " 9   english.grade       307 non-null    float64\n",
            " 10  math.grade          307 non-null    float64\n",
            " 11  sciences.grade      307 non-null    float64\n",
            " 12  language.grade      307 non-null    float64\n",
            " 13  portfolio.rating    307 non-null    int64  \n",
            " 14  coverletter.rating  307 non-null    float64\n",
            " 15  refletter.rating    307 non-null    int64  \n",
            "dtypes: float64(8), int64(4), object(4)\n",
            "memory usage: 38.5+ KB\n",
            "None\n",
            "\n",
            "Dataset Description:\n",
            "               id    latitude   longitude  ethnic.group         age  \\\n",
            "count  307.000000  307.000000  307.000000           0.0  307.000000   \n",
            "mean   153.000000   32.863388  -64.539121           NaN   21.964169   \n",
            "std     88.767487   13.498582   81.249146           NaN    1.248013   \n",
            "min      0.000000  -33.450000 -123.130000           NaN   19.000000   \n",
            "25%     76.500000   32.720000 -118.240000           NaN   21.000000   \n",
            "50%    153.000000   34.390000  -99.140000           NaN   22.000000   \n",
            "75%    229.500000   38.960000  -73.855000           NaN   23.000000   \n",
            "max    306.000000   59.890000  139.750000           NaN   26.000000   \n",
            "\n",
            "       english.grade  math.grade  sciences.grade  language.grade  \\\n",
            "count     307.000000  307.000000      307.000000      307.000000   \n",
            "mean        3.369707    3.414332        3.446580        4.396417   \n",
            "std         0.538724    0.476839        0.509081        0.996474   \n",
            "min         1.500000    2.100000        1.400000        1.000000   \n",
            "25%         3.100000    3.100000        3.200000        4.000000   \n",
            "50%         3.500000    3.500000        3.600000        5.000000   \n",
            "75%         3.800000    3.800000        3.800000        5.000000   \n",
            "max         4.000000    4.000000        4.000000        5.000000   \n",
            "\n",
            "       portfolio.rating  coverletter.rating  refletter.rating  \n",
            "count        307.000000          307.000000        307.000000  \n",
            "mean           3.986971            4.110749          4.188925  \n",
            "std            0.928749            0.823936          0.842193  \n",
            "min            1.000000            1.000000          1.000000  \n",
            "25%            3.500000            4.000000          4.000000  \n",
            "50%            4.000000            4.000000          4.000000  \n",
            "75%            5.000000            5.000000          5.000000  \n",
            "max            5.000000            5.000000          5.000000  \n"
          ]
        }
      ]
    },
    {
      "cell_type": "code",
      "source": [
        "# Check for missing values\n",
        "print(\"\\nMissing Values:\")\n",
        "print(df.isnull().sum())"
      ],
      "metadata": {
        "colab": {
          "base_uri": "https://localhost:8080/"
        },
        "id": "2HpoYZnl0LOR",
        "outputId": "f63dba22-08ac-4aae-a94f-2359ca444924"
      },
      "execution_count": 5,
      "outputs": [
        {
          "output_type": "stream",
          "name": "stdout",
          "text": [
            "\n",
            "Missing Values:\n",
            "id                      0\n",
            "name                    0\n",
            "nationality             0\n",
            "city                    0\n",
            "latitude                0\n",
            "longitude               0\n",
            "gender                  0\n",
            "ethnic.group          307\n",
            "age                     0\n",
            "english.grade           0\n",
            "math.grade              0\n",
            "sciences.grade          0\n",
            "language.grade          0\n",
            "portfolio.rating        0\n",
            "coverletter.rating      0\n",
            "refletter.rating        0\n",
            "dtype: int64\n"
          ]
        }
      ]
    },
    {
      "cell_type": "code",
      "source": [
        "# Analyze categorical variables\n",
        "categorical_cols = df.select_dtypes(include=['object']).columns\n",
        "\n",
        "for col in categorical_cols:\n",
        "    print(f\"\\nValue counts for {col}:\")\n",
        "    print(df[col].value_counts())\n"
      ],
      "metadata": {
        "colab": {
          "base_uri": "https://localhost:8080/"
        },
        "id": "rq02bxh-0j6Z",
        "outputId": "ada961c9-4dc5-4cf2-b758-55953ddab890"
      },
      "execution_count": 7,
      "outputs": [
        {
          "output_type": "stream",
          "name": "stdout",
          "text": [
            "\n",
            "Value counts for name:\n",
            "name\n",
            "Kiana Lor              1\n",
            "Kyler Overboe          1\n",
            "Makenzie Swann         1\n",
            "Andrew Brunelli        1\n",
            "Jesse Hodapp           1\n",
            "                      ..\n",
            "Mamdooh el-Moustafa    1\n",
            "Rachel Bakeman         1\n",
            "Antonio Desai          1\n",
            "Jason Hundsdorfer      1\n",
            "Dane Whittemore        1\n",
            "Name: count, Length: 307, dtype: int64\n",
            "\n",
            "Value counts for nationality:\n",
            "nationality\n",
            "United States of America    193\n",
            "Mexico                       24\n",
            "China                        13\n",
            "Japan                        13\n",
            "Brazil                        9\n",
            "India                         8\n",
            "Canada                        7\n",
            "Russian Federation            6\n",
            "Colombia                      5\n",
            "Korea (Republic of)           3\n",
            "Pakistan                      3\n",
            "Spain                         2\n",
            "Turkey                        2\n",
            "United Kingdom                2\n",
            "Dominican Republic            1\n",
            "Bangladesh                    1\n",
            "Thailand                      1\n",
            "Chile                         1\n",
            "Netherlands                   1\n",
            "Morocco                       1\n",
            "Ukraine                       1\n",
            "Egypt                         1\n",
            "El Salvador                   1\n",
            "Germany                       1\n",
            "Peru                          1\n",
            "Philippines                   1\n",
            "Myanmar                       1\n",
            "Tunisia                       1\n",
            "Cuba                          1\n",
            "Poland                        1\n",
            "Nicaragua                     1\n",
            "Name: count, dtype: int64\n",
            "\n",
            "Value counts for city:\n",
            "city\n",
            "Los Angeles     46\n",
            "New York        18\n",
            "Tokyo           11\n",
            "Mexico          10\n",
            "San Diego       10\n",
            "                ..\n",
            "Waukegan         1\n",
            "Rangoon          1\n",
            "Kettering        1\n",
            "Manzil Tamim     1\n",
            "Columbus         1\n",
            "Name: count, Length: 161, dtype: int64\n",
            "\n",
            "Value counts for gender:\n",
            "gender\n",
            "F        152\n",
            "M        151\n",
            "other      4\n",
            "Name: count, dtype: int64\n"
          ]
        }
      ]
    },
    {
      "cell_type": "code",
      "source": [
        "#Correlation analysis for numerical variables\n",
        "correlation_matrix = df[numerical_cols].corr()\n",
        "print(\"\\nCorrelation Matrix:\")\n",
        "print(correlation_matrix)\n",
        "\n",
        "# Summary of findings\n",
        "print(\"\\nSummary of Findings:\")\n",
        "print(\"1. Dataset Shape:\", df.shape)\n",
        "print(\"2. Numerical Variables:\", \", \".join(numerical_cols))\n",
        "print(\"3. Categorical Variables:\", \", \".join(categorical_cols))\n",
        "print(\"4. Highest Correlation:\", correlation_matrix.unstack().sort_values(ascending=False).drop_duplicates().index[1]) # correlation_matrix is defined before this line\n",
        "print(\"5. Variable with highest variance:\", df[numerical_cols].var().idxmax())\n",
        "for col in categorical_cols:\n",
        "    print(f\"6. Most common category in {col}:\", df[col].mode()[0])"
      ],
      "metadata": {
        "colab": {
          "base_uri": "https://localhost:8080/"
        },
        "id": "oDQPF8Hf0pTR",
        "outputId": "ae9d17d5-780a-41c0-9aef-8c659f5ffe56"
      },
      "execution_count": 10,
      "outputs": [
        {
          "output_type": "stream",
          "name": "stdout",
          "text": [
            "\n",
            "Correlation Matrix:\n",
            "                          id  latitude  longitude  ethnic.group       age  \\\n",
            "id                  1.000000 -0.003858  -0.143509           NaN -0.041475   \n",
            "latitude           -0.003858  1.000000  -0.022410           NaN -0.013483   \n",
            "longitude          -0.143509 -0.022410   1.000000           NaN -0.001897   \n",
            "ethnic.group             NaN       NaN        NaN           NaN       NaN   \n",
            "age                -0.041475 -0.013483  -0.001897           NaN  1.000000   \n",
            "english.grade       0.041590 -0.055734  -0.077222           NaN -0.001620   \n",
            "math.grade         -0.003799  0.018960   0.069241           NaN  0.018438   \n",
            "sciences.grade     -0.082369  0.049476  -0.005642           NaN -0.097152   \n",
            "language.grade      0.208996  0.422806  -0.617455           NaN  0.026963   \n",
            "portfolio.rating    0.067109 -0.024638   0.050983           NaN -0.051154   \n",
            "coverletter.rating  0.039476 -0.046231  -0.035625           NaN -0.050156   \n",
            "refletter.rating   -0.003628 -0.049537   0.042415           NaN -0.033958   \n",
            "\n",
            "                    english.grade  math.grade  sciences.grade  language.grade  \\\n",
            "id                       0.041590   -0.003799       -0.082369        0.208996   \n",
            "latitude                -0.055734    0.018960        0.049476        0.422806   \n",
            "longitude               -0.077222    0.069241       -0.005642       -0.617455   \n",
            "ethnic.group                  NaN         NaN             NaN             NaN   \n",
            "age                     -0.001620    0.018438       -0.097152        0.026963   \n",
            "english.grade            1.000000   -0.011535        0.004804        0.031696   \n",
            "math.grade              -0.011535    1.000000        0.058225       -0.019699   \n",
            "sciences.grade           0.004804    0.058225        1.000000        0.012119   \n",
            "language.grade           0.031696   -0.019699        0.012119        1.000000   \n",
            "portfolio.rating         0.024681    0.102994        0.058656       -0.034303   \n",
            "coverletter.rating      -0.094754    0.086612        0.105307       -0.046881   \n",
            "refletter.rating        -0.017596   -0.027108        0.006848       -0.042804   \n",
            "\n",
            "                    portfolio.rating  coverletter.rating  refletter.rating  \n",
            "id                          0.067109            0.039476         -0.003628  \n",
            "latitude                   -0.024638           -0.046231         -0.049537  \n",
            "longitude                   0.050983           -0.035625          0.042415  \n",
            "ethnic.group                     NaN                 NaN               NaN  \n",
            "age                        -0.051154           -0.050156         -0.033958  \n",
            "english.grade               0.024681           -0.094754         -0.017596  \n",
            "math.grade                  0.102994            0.086612         -0.027108  \n",
            "sciences.grade              0.058656            0.105307          0.006848  \n",
            "language.grade             -0.034303           -0.046881         -0.042804  \n",
            "portfolio.rating            1.000000           -0.019461          0.019869  \n",
            "coverletter.rating         -0.019461            1.000000          0.040391  \n",
            "refletter.rating            0.019869            0.040391          1.000000  \n",
            "\n",
            "Summary of Findings:\n",
            "1. Dataset Shape: (307, 16)\n",
            "2. Numerical Variables: id, latitude, longitude, ethnic.group, age, english.grade, math.grade, sciences.grade, language.grade, portfolio.rating, coverletter.rating, refletter.rating\n",
            "3. Categorical Variables: name, nationality, city, gender\n",
            "4. Highest Correlation: ('latitude', 'language.grade')\n",
            "5. Variable with highest variance: id\n",
            "6. Most common category in name: Aaqil el-Hashemi\n",
            "6. Most common category in nationality: United States of America\n",
            "6. Most common category in city: Los Angeles\n",
            "6. Most common category in gender: F\n"
          ]
        }
      ]
    },
    {
      "cell_type": "code",
      "source": [],
      "metadata": {
        "id": "T-q3pOrS1T7_"
      },
      "execution_count": null,
      "outputs": []
    }
  ]
}